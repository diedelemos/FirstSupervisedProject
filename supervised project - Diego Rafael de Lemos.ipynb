{
 "cells": [
  {
   "cell_type": "markdown",
   "metadata": {},
   "source": [
    "### Machine Learning Supervised Project\n",
    "#### Universidad de Navarrra, noviembre de 2022\n",
    "#### Diego Rafael de Lemos Burgaña"
   ]
  },
  {
   "cell_type": "markdown",
   "metadata": {},
   "source": [
    "Primero, cargamos todas las librerias que vamos a utilizar en el trabajo"
   ]
  },
  {
   "cell_type": "code",
   "execution_count": 1,
   "metadata": {},
   "outputs": [],
   "source": [
    "import pandas as pd\n",
    "import numpy as np\n",
    "import io\n",
    "import requests\n",
    "import csv\n",
    "from sklearn.model_selection import train_test_split as tts"
   ]
  },
  {
   "cell_type": "markdown",
   "metadata": {},
   "source": [
    "Importamos los datos descargados de internet. <br>\n",
    "En este caso vamos a trabajar con datos sobre salarios en distintos trabajos como un data engineer, data analyst, data scientist, etc <br>\n",
    "<br>\n",
    "El objetivo es realizar un modelo de regresion que utilice como variable \"target\" la de salario estimado segun las caracteristicas del trabajo y de la persona.\n"
   ]
  },
  {
   "cell_type": "code",
   "execution_count": 2,
   "metadata": {},
   "outputs": [
    {
     "name": "stdout",
     "output_type": "stream",
     "text": [
      "                     Job Title  Rating            Company Name  \\\n",
      "0               Data Scientist     3.8     Tecolote Research\\n   \n",
      "1               Data Scientist     4.8                  KnowBe   \n",
      "2               Data Scientist     3.8                  PNNL\\n   \n",
      "3               Data Scientist     2.9    Affinity Solutions\\n   \n",
      "4               Data Scientist     3.4              CyrusOne\\n   \n",
      "..                         ...     ...                     ...   \n",
      "200              Data Engineer     4.0    Pinnacol Assurance\\n   \n",
      "201              Data Engineer     3.4     MetroStar Systems\\n   \n",
      "202  Machine Learning Engineer     3.2  Information Builders\\n   \n",
      "203             Data Scientist     3.2          Numeric, LLC\\n   \n",
      "204              Data Engineer     3.9             Fivestars\\n   \n",
      "\n",
      "          Headquarters          Size  Founded       Type of ownership  \\\n",
      "0           Goleta, CA   501 - 1000      1973       Company - Private   \n",
      "1       Clearwater, FL   501 - 1000      2010       Company - Private   \n",
      "2         Richland, WA  1001 - 5000      1965              Government   \n",
      "3         New York, NY     51 - 200      1998       Company - Private   \n",
      "4           Dallas, TX    201 - 500      2000        Company - Public   \n",
      "..                 ...           ...      ...                     ...   \n",
      "200         Denver, CO   501 - 1000      1915  Nonprofit Organization   \n",
      "201         Reston, VA    201 - 500      1999       Company - Private   \n",
      "202       New York, NY  1001 - 5000      1975       Company - Private   \n",
      "203    Chadds Ford, PA        Jan-50       -1       Company - Private   \n",
      "204  San Francisco, CA    201 - 500      2011       Company - Private   \n",
      "\n",
      "                         Industry                           Revenue  Hourly  \\\n",
      "0             Aerospace & Defense         $50 to $100 million (USD)       0   \n",
      "1               Security Services        $100 to $500 million (USD)       0   \n",
      "2                          Energy  $500 million to $1 billion (USD)       0   \n",
      "3         Advertising & Marketing          Unknown / Non-Applicable       0   \n",
      "4                     Real Estate            $1 to $2 billion (USD)       0   \n",
      "..                            ...                               ...     ...   \n",
      "200            Insurance Carriers  $500 million to $1 billion (USD)       0   \n",
      "201                   IT Services          $25 to $50 million (USD)       0   \n",
      "202  Computer Hardware & Software          Unknown / Non-Applicable       0   \n",
      "203        Staffing & Outsourcing           $5 to $10 million (USD)       0   \n",
      "204                      Internet        $100 to $500 million (USD)       0   \n",
      "\n",
      "     ...  scikit  tensor  hadoop  tableau bi flink  mongo  google_an  \\\n",
      "0    ...       0       0       0        1  1     0      0          0   \n",
      "1    ...       0       0       0        0  0     0      0          0   \n",
      "2    ...       0       0       0        0  0     0      0          0   \n",
      "3    ...       0       0       0        0  0     0      0          0   \n",
      "4    ...       0       0       0        0  1     0      1          0   \n",
      "..   ...     ...     ...     ...      ... ..   ...    ...        ...   \n",
      "200  ...       0       0       0        0  0     0      0          0   \n",
      "201  ...       0       0       0        0  0     0      0          0   \n",
      "202  ...       0       1       0        0  0     0      0          0   \n",
      "203  ...       0       0       1        0  0     0      0          0   \n",
      "204  ...       0       0       0        0  0     0      0          0   \n",
      "\n",
      "     seniority_by_title  Degree  \n",
      "0                    na       1  \n",
      "1                    na       1  \n",
      "2                    na      na  \n",
      "3                    na      na  \n",
      "4                    na      na  \n",
      "..                  ...     ...  \n",
      "200                  na       1  \n",
      "201                  na       1  \n",
      "202                  na       1  \n",
      "203                  na      na  \n",
      "204                  na       1  \n",
      "\n",
      "[205 rows x 35 columns]\n"
     ]
    }
   ],
   "source": [
    "df = pd.read_csv(r'C:\\Users\\diede\\OneDrive\\Desktop\\Machine Learning Project\\data.csv', encoding='cp1252', index_col=None)\n",
    "print(df)"
   ]
  },
  {
   "cell_type": "markdown",
   "metadata": {},
   "source": [
    "Eliminamos variables categoricas que no consideremos importantes para el modelo de regresion lineal al igual que aquellas que generan multicolinearidad en el modelo."
   ]
  },
  {
   "cell_type": "code",
   "execution_count": 3,
   "metadata": {},
   "outputs": [],
   "source": [
    "df.drop(df.columns[[2, 3, 4, 6,7,8, 9, 10,11,12,14,15,33]], axis=1, inplace=True)"
   ]
  },
  {
   "cell_type": "code",
   "execution_count": 4,
   "metadata": {},
   "outputs": [
    {
     "data": {
      "text/plain": [
       "Job Title        0\n",
       "Rating           0\n",
       "Founded          0\n",
       "Avg Salary(K)    0\n",
       "Age              0\n",
       "Python           0\n",
       "spark            0\n",
       "aws              0\n",
       "excel            0\n",
       "sql              0\n",
       "sas              0\n",
       "keras            0\n",
       "pytorch          0\n",
       "scikit           0\n",
       "tensor           0\n",
       "hadoop           0\n",
       "tableau          0\n",
       "bi               0\n",
       "flink            0\n",
       "mongo            0\n",
       "google_an        0\n",
       "Degree           0\n",
       "dtype: int64"
      ]
     },
     "execution_count": 4,
     "metadata": {},
     "output_type": "execute_result"
    }
   ],
   "source": [
    "df.dtypes\n",
    "df.isna().sum()"
   ]
  },
  {
   "cell_type": "markdown",
   "metadata": {},
   "source": [
    "Contamos los distintos valores que hay dentro de la variable 'Job Title' para luego codificarla y poder trabajar con ella"
   ]
  },
  {
   "cell_type": "code",
   "execution_count": 5,
   "metadata": {},
   "outputs": [
    {
     "data": {
      "text/plain": [
       "Data Scientist               131\n",
       "Data Engineer                 53\n",
       "Data Analyst                  15\n",
       "Machine Learning Engineer      5\n",
       "Data Modeler                   1\n",
       "Name: Job Title, dtype: int64"
      ]
     },
     "execution_count": 5,
     "metadata": {},
     "output_type": "execute_result"
    }
   ],
   "source": [
    "df['Job Title'].value_counts()"
   ]
  },
  {
   "cell_type": "markdown",
   "metadata": {},
   "source": [
    "Luego reemplazamos los valores de esa categoria por numeros para tenerla de una manera mas trabajable para el modelo"
   ]
  },
  {
   "cell_type": "code",
   "execution_count": 6,
   "metadata": {},
   "outputs": [
    {
     "data": {
      "text/plain": [
       "2    131\n",
       "3     53\n",
       "1     15\n",
       "0      6\n",
       "Name: Job Title, dtype: int64"
      ]
     },
     "execution_count": 6,
     "metadata": {},
     "output_type": "execute_result"
    }
   ],
   "source": [
    "df.loc[ df['Job Title'] == 'Data Analyst', 'Job Title'] = 1\n",
    "df.loc[ df['Job Title'] == 'Data Scientist', 'Job Title'] = 2\n",
    "df.loc[ df['Job Title'] == 'Data Engineer', 'Job Title'] = 3\n",
    "df.loc[ df['Job Title'] == 'Machine Learning Engineer', 'Job Title'] = 0\n",
    "df.loc[ df['Job Title'] == 'Data Modeler', 'Job Title'] = 0\n",
    "\n",
    "df['Job Title'].value_counts()"
   ]
  },
  {
   "cell_type": "code",
   "execution_count": 7,
   "metadata": {},
   "outputs": [],
   "source": [
    "df.loc[ df['Degree'] == 'na', 'Degree'] = 0\n",
    "df['Degree'].value_counts()\n",
    "df['Degree'] = df['Degree'].astype(int)"
   ]
  },
  {
   "cell_type": "code",
   "execution_count": 8,
   "metadata": {},
   "outputs": [
    {
     "name": "stdout",
     "output_type": "stream",
     "text": [
      "    Job Title  Rating  Founded  Age  Python  spark  aws  excel  sql  sas  ...  \\\n",
      "0           2     3.8     1973   48       1      0    0      1    0    1  ...   \n",
      "1           2     4.8     2010   11       1      1    0      1    1    1  ...   \n",
      "2           2     3.8     1965   56       1      0    0      0    0    0  ...   \n",
      "3           2     2.9     1998   23       1      0    0      1    1    1  ...   \n",
      "4           2     3.4     2000   21       1      0    1      1    1    0  ...   \n",
      "..        ...     ...      ...  ...     ...    ...  ...    ...  ...  ...  ...   \n",
      "200         3     4.0     1915  106       1      0    1      0    1    0  ...   \n",
      "201         3     3.4     1999   22       0      0    1      0    0    0  ...   \n",
      "202         0     3.2     1975   46       1      0    1      1    1    0  ...   \n",
      "203         2     3.2       -1   -1       1      1    1      0    1    0  ...   \n",
      "204         3     3.9     2011   10       1      0    1      1    1    0  ...   \n",
      "\n",
      "     pytorch  scikit  tensor  hadoop  tableau  bi  flink  mongo  google_an  \\\n",
      "0          0       0       0       0        1   1      0      0          0   \n",
      "1          0       0       0       0        0   0      0      0          0   \n",
      "2          0       0       0       0        0   0      0      0          0   \n",
      "3          0       0       0       0        0   0      0      0          0   \n",
      "4          0       0       0       0        0   1      0      1          0   \n",
      "..       ...     ...     ...     ...      ...  ..    ...    ...        ...   \n",
      "200        0       0       0       0        0   0      0      0          0   \n",
      "201        0       0       0       0        0   0      0      0          0   \n",
      "202        1       0       1       0        0   0      0      0          0   \n",
      "203        0       0       0       1        0   0      0      0          0   \n",
      "204        0       0       0       0        0   0      0      0          0   \n",
      "\n",
      "     Degree  \n",
      "0         1  \n",
      "1         1  \n",
      "2         0  \n",
      "3         0  \n",
      "4         0  \n",
      "..      ...  \n",
      "200       1  \n",
      "201       1  \n",
      "202       1  \n",
      "203       0  \n",
      "204       1  \n",
      "\n",
      "[205 rows x 21 columns]\n"
     ]
    }
   ],
   "source": [
    "# Dividimos en target y Data\n",
    "target = 'Avg Salary(K)'\n",
    "x = df.drop('Avg Salary(K)', axis = 1)\n",
    "y = df[target]\n",
    "\n",
    "print(x)"
   ]
  },
  {
   "cell_type": "code",
   "execution_count": 9,
   "metadata": {},
   "outputs": [],
   "source": [
    "# Dividimos en train y en test\n",
    "xtr, xte, ytr, yte = tts(x, y, test_size=0.25, random_state=123)\n",
    "\n",
    "from sklearn.pipeline import Pipeline\n",
    "from sklearn.impute import SimpleImputer\n",
    "from sklearn.compose import ColumnTransformer\n",
    "from sklearn.preprocessing import StandardScaler, OneHotEncoder, OrdinalEncoder\n",
    "from sklearn.compose import make_column_selector as select\n",
    "from sklearn.linear_model import LinearRegression"
   ]
  },
  {
   "cell_type": "code",
   "execution_count": 10,
   "metadata": {},
   "outputs": [],
   "source": [
    "#Transformaciones a los datos, sean numericos o categoricos\n",
    "num_trans = Pipeline(steps=[\n",
    "    ('imputer', SimpleImputer(strategy='median')),\n",
    "    ('scaler', StandardScaler())])\n",
    "cat_trans = Pipeline(steps=[\n",
    "    ('imputer', SimpleImputer(strategy='constant', fill_value='missing')),\n",
    "    ('onehot', OneHotEncoder(drop='first'))])\n",
    "\n",
    "\n",
    "ct = ColumnTransformer(transformers=[\n",
    "    ('num', num_trans, select(dtype_exclude=\"object\")),\n",
    "    ('cat', cat_trans, select(dtype_include=\"object\"))\n",
    "])"
   ]
  },
  {
   "cell_type": "code",
   "execution_count": 11,
   "metadata": {},
   "outputs": [
    {
     "name": "stdout",
     "output_type": "stream",
     "text": [
      "[ 55.22830268  94.9366959   83.67436616  69.85802252  80.59807332\n",
      "  86.8445268   83.50870841 112.76169906  96.1038678  106.07672191\n",
      " 103.94664648  94.5795301   88.01456754  99.10702052 103.83862781\n",
      "  88.33441916 117.75548251  80.59807332  95.91898727 124.52175656\n",
      " 103.36691925 118.14767445 111.94476454 101.38911833 106.07672191\n",
      "  80.51774637 110.97518351 101.38911833 104.53234345  95.28305945\n",
      "  82.64174763  97.25146684 101.49273982 110.46892833  69.77374173\n",
      " 102.32263225  64.71488622  91.8342581  116.16535458 101.18069215\n",
      "  94.75475217  89.59277128 124.52175656 110.53031085  99.7436744\n",
      "  86.8445268   77.64819631 109.05745953 107.58341852  97.33671366\n",
      "  89.94907406  88.33441916]\n"
     ]
    }
   ],
   "source": [
    "# Elegimos el modelo de regresion lineal\n",
    "lr = Pipeline(steps=[('pre', ct),\n",
    "                     ('LR', LinearRegression())])\n",
    "\n",
    "lr.fit(xtr,ytr)\n",
    "\n",
    "# Predecimos con el modelo que hemos hecho\n",
    "y_lr = lr.predict(xte)\n",
    "print(y_lr)\n"
   ]
  },
  {
   "cell_type": "code",
   "execution_count": 12,
   "metadata": {},
   "outputs": [
    {
     "name": "stdout",
     "output_type": "stream",
     "text": [
      "R^2: 0.1623\n",
      "MAE: 14.7373\n",
      "RMSE: 18.5257\n"
     ]
    }
   ],
   "source": [
    "from sklearn import metrics\n",
    "def resultado(yt, yp): \n",
    "    print('R^2:', round(metrics.r2_score(yt, yp) ,4))\n",
    "    print('MAE:', round(metrics.mean_absolute_error(yt, yp) ,4))\n",
    "    print('RMSE:', round(np.sqrt(metrics.mean_squared_error(yt, yp)),4))\n",
    "\n",
    "resultado(yte,y_lr)"
   ]
  },
  {
   "cell_type": "code",
   "execution_count": 13,
   "metadata": {},
   "outputs": [
    {
     "name": "stdout",
     "output_type": "stream",
     "text": [
      "R^2: 0.2001\n",
      "MAE: 14.0383\n",
      "RMSE: 18.1025\n"
     ]
    }
   ],
   "source": [
    "from sklearn.ensemble import GradientBoostingRegressor\n",
    "gbm = Pipeline(steps=[('pre', ct),\n",
    "                      ('GBM', GradientBoostingRegressor())])\n",
    "\n",
    "\n",
    "gbm.fit(xtr,ytr)\n",
    "y_gbm = gbm.predict(xte)\n",
    "resultado(yte,y_gbm)"
   ]
  },
  {
   "cell_type": "markdown",
   "metadata": {},
   "source": [
    "Cross-Validation"
   ]
  },
  {
   "cell_type": "markdown",
   "metadata": {},
   "source": [
    "Con r2 primero y despues con linear regression"
   ]
  },
  {
   "cell_type": "code",
   "execution_count": 16,
   "metadata": {},
   "outputs": [
    {
     "name": "stdout",
     "output_type": "stream",
     "text": [
      "[ 0.62883165  0.12004908  0.53412841  0.73769053 -0.09165511  0.04496367\n",
      "  0.5306755   0.24209169 -0.18373258  0.2199039 ]\n"
     ]
    }
   ],
   "source": [
    "from sklearn.model_selection import cross_val_score\n",
    "scores = cross_val_score(gbm, xtr, ytr, cv=10, scoring = 'r2')\n",
    "print(scores)"
   ]
  },
  {
   "cell_type": "code",
   "execution_count": 15,
   "metadata": {},
   "outputs": [
    {
     "name": "stdout",
     "output_type": "stream",
     "text": [
      "[ 0.43217841  0.32722376  0.32822481 -0.03475361  0.04518168 -0.97504244\n",
      "  0.35638281 -0.13739982 -0.82815293  0.04812109]\n"
     ]
    }
   ],
   "source": [
    "scores = cross_val_score(lr, xtr, ytr, cv=10, scoring = 'r2')\n",
    "print(scores)"
   ]
  },
  {
   "cell_type": "code",
   "execution_count": 17,
   "metadata": {},
   "outputs": [
    {
     "name": "stdout",
     "output_type": "stream",
     "text": [
      "[ 0.28223894  0.42101569  0.50614867  0.43296428 -0.04114387  0.40155945\n",
      "  0.75323184  0.10059709  0.50834163  0.17786198  0.36594465  0.23400063\n",
      "  0.2960881   0.00253514  0.45625779  0.27874092  0.32104414  0.27000091\n",
      " -0.29438748 -0.29594722  0.32901     0.3573629   0.6762084   0.31526498]\n"
     ]
    }
   ],
   "source": [
    "from sklearn.model_selection import RepeatedKFold\n",
    "rcv = RepeatedKFold(n_splits=8, n_repeats=3, random_state=123)\n",
    "\n",
    "scores = cross_val_score(gbm, xtr, ytr, cv=rcv, scoring = 'r2')\n",
    "print(scores)"
   ]
  },
  {
   "cell_type": "markdown",
   "metadata": {},
   "source": [
    "Tuning"
   ]
  },
  {
   "cell_type": "code",
   "execution_count": 26,
   "metadata": {},
   "outputs": [],
   "source": [
    "from sklearn.ensemble import RandomForestRegressor\n",
    "rf = Pipeline(steps=[('p', ct),\n",
    "                     ('RF', RandomForestRegressor())])\n",
    "\n",
    "grid = {\n",
    "'RF__n_estimators' : [150, 200, 250],\n",
    "'RF__max_depth'    : [6, 7, 8],\n",
    "'RF__max_features' : [\"sqrt\", \"log2\"]\n",
    "}"
   ]
  },
  {
   "cell_type": "code",
   "execution_count": 28,
   "metadata": {},
   "outputs": [
    {
     "data": {
      "text/html": [
       "<style>#sk-container-id-2 {color: black;background-color: white;}#sk-container-id-2 pre{padding: 0;}#sk-container-id-2 div.sk-toggleable {background-color: white;}#sk-container-id-2 label.sk-toggleable__label {cursor: pointer;display: block;width: 100%;margin-bottom: 0;padding: 0.3em;box-sizing: border-box;text-align: center;}#sk-container-id-2 label.sk-toggleable__label-arrow:before {content: \"▸\";float: left;margin-right: 0.25em;color: #696969;}#sk-container-id-2 label.sk-toggleable__label-arrow:hover:before {color: black;}#sk-container-id-2 div.sk-estimator:hover label.sk-toggleable__label-arrow:before {color: black;}#sk-container-id-2 div.sk-toggleable__content {max-height: 0;max-width: 0;overflow: hidden;text-align: left;background-color: #f0f8ff;}#sk-container-id-2 div.sk-toggleable__content pre {margin: 0.2em;color: black;border-radius: 0.25em;background-color: #f0f8ff;}#sk-container-id-2 input.sk-toggleable__control:checked~div.sk-toggleable__content {max-height: 200px;max-width: 100%;overflow: auto;}#sk-container-id-2 input.sk-toggleable__control:checked~label.sk-toggleable__label-arrow:before {content: \"▾\";}#sk-container-id-2 div.sk-estimator input.sk-toggleable__control:checked~label.sk-toggleable__label {background-color: #d4ebff;}#sk-container-id-2 div.sk-label input.sk-toggleable__control:checked~label.sk-toggleable__label {background-color: #d4ebff;}#sk-container-id-2 input.sk-hidden--visually {border: 0;clip: rect(1px 1px 1px 1px);clip: rect(1px, 1px, 1px, 1px);height: 1px;margin: -1px;overflow: hidden;padding: 0;position: absolute;width: 1px;}#sk-container-id-2 div.sk-estimator {font-family: monospace;background-color: #f0f8ff;border: 1px dotted black;border-radius: 0.25em;box-sizing: border-box;margin-bottom: 0.5em;}#sk-container-id-2 div.sk-estimator:hover {background-color: #d4ebff;}#sk-container-id-2 div.sk-parallel-item::after {content: \"\";width: 100%;border-bottom: 1px solid gray;flex-grow: 1;}#sk-container-id-2 div.sk-label:hover label.sk-toggleable__label {background-color: #d4ebff;}#sk-container-id-2 div.sk-serial::before {content: \"\";position: absolute;border-left: 1px solid gray;box-sizing: border-box;top: 0;bottom: 0;left: 50%;z-index: 0;}#sk-container-id-2 div.sk-serial {display: flex;flex-direction: column;align-items: center;background-color: white;padding-right: 0.2em;padding-left: 0.2em;position: relative;}#sk-container-id-2 div.sk-item {position: relative;z-index: 1;}#sk-container-id-2 div.sk-parallel {display: flex;align-items: stretch;justify-content: center;background-color: white;position: relative;}#sk-container-id-2 div.sk-item::before, #sk-container-id-2 div.sk-parallel-item::before {content: \"\";position: absolute;border-left: 1px solid gray;box-sizing: border-box;top: 0;bottom: 0;left: 50%;z-index: -1;}#sk-container-id-2 div.sk-parallel-item {display: flex;flex-direction: column;z-index: 1;position: relative;background-color: white;}#sk-container-id-2 div.sk-parallel-item:first-child::after {align-self: flex-end;width: 50%;}#sk-container-id-2 div.sk-parallel-item:last-child::after {align-self: flex-start;width: 50%;}#sk-container-id-2 div.sk-parallel-item:only-child::after {width: 0;}#sk-container-id-2 div.sk-dashed-wrapped {border: 1px dashed gray;margin: 0 0.4em 0.5em 0.4em;box-sizing: border-box;padding-bottom: 0.4em;background-color: white;}#sk-container-id-2 div.sk-label label {font-family: monospace;font-weight: bold;display: inline-block;line-height: 1.2em;}#sk-container-id-2 div.sk-label-container {text-align: center;}#sk-container-id-2 div.sk-container {/* jupyter's `normalize.less` sets `[hidden] { display: none; }` but bootstrap.min.css set `[hidden] { display: none !important; }` so we also need the `!important` here to be able to override the default hidden behavior on the sphinx rendered scikit-learn.org. See: https://github.com/scikit-learn/scikit-learn/issues/21755 */display: inline-block !important;position: relative;}#sk-container-id-2 div.sk-text-repr-fallback {display: none;}</style><div id=\"sk-container-id-2\" class=\"sk-top-container\"><div class=\"sk-text-repr-fallback\"><pre>GridSearchCV(cv=3,\n",
       "             estimator=Pipeline(steps=[(&#x27;p&#x27;,\n",
       "                                        ColumnTransformer(transformers=[(&#x27;num&#x27;,\n",
       "                                                                         Pipeline(steps=[(&#x27;imputer&#x27;,\n",
       "                                                                                          SimpleImputer(strategy=&#x27;median&#x27;)),\n",
       "                                                                                         (&#x27;scaler&#x27;,\n",
       "                                                                                          StandardScaler())]),\n",
       "                                                                         &lt;sklearn.compose._column_transformer.make_column_selector object at 0x0000019442CAFE80&gt;),\n",
       "                                                                        (&#x27;cat&#x27;,\n",
       "                                                                         Pipeline(steps=[(&#x27;imputer&#x27;,\n",
       "                                                                                          SimpleImputer(fill_value=&#x27;missing&#x27;,\n",
       "                                                                                                        strategy=&#x27;constant&#x27;)),\n",
       "                                                                                         (&#x27;onehot&#x27;,\n",
       "                                                                                          OneHotEncoder(drop=&#x27;first&#x27;))]),\n",
       "                                                                         &lt;sklearn.compose._column_transformer.make_column_selector object at 0x00000194460F7A00&gt;)])),\n",
       "                                       (&#x27;RF&#x27;, RandomForestRegressor())]),\n",
       "             param_grid={&#x27;RF__max_depth&#x27;: [6, 7, 8],\n",
       "                         &#x27;RF__max_features&#x27;: [&#x27;sqrt&#x27;, &#x27;log2&#x27;],\n",
       "                         &#x27;RF__n_estimators&#x27;: [150, 200, 250]},\n",
       "             scoring=&#x27;r2&#x27;)</pre><b>In a Jupyter environment, please rerun this cell to show the HTML representation or trust the notebook. <br />On GitHub, the HTML representation is unable to render, please try loading this page with nbviewer.org.</b></div><div class=\"sk-container\" hidden><div class=\"sk-item sk-dashed-wrapped\"><div class=\"sk-label-container\"><div class=\"sk-label sk-toggleable\"><input class=\"sk-toggleable__control sk-hidden--visually\" id=\"sk-estimator-id-11\" type=\"checkbox\" ><label for=\"sk-estimator-id-11\" class=\"sk-toggleable__label sk-toggleable__label-arrow\">GridSearchCV</label><div class=\"sk-toggleable__content\"><pre>GridSearchCV(cv=3,\n",
       "             estimator=Pipeline(steps=[(&#x27;p&#x27;,\n",
       "                                        ColumnTransformer(transformers=[(&#x27;num&#x27;,\n",
       "                                                                         Pipeline(steps=[(&#x27;imputer&#x27;,\n",
       "                                                                                          SimpleImputer(strategy=&#x27;median&#x27;)),\n",
       "                                                                                         (&#x27;scaler&#x27;,\n",
       "                                                                                          StandardScaler())]),\n",
       "                                                                         &lt;sklearn.compose._column_transformer.make_column_selector object at 0x0000019442CAFE80&gt;),\n",
       "                                                                        (&#x27;cat&#x27;,\n",
       "                                                                         Pipeline(steps=[(&#x27;imputer&#x27;,\n",
       "                                                                                          SimpleImputer(fill_value=&#x27;missing&#x27;,\n",
       "                                                                                                        strategy=&#x27;constant&#x27;)),\n",
       "                                                                                         (&#x27;onehot&#x27;,\n",
       "                                                                                          OneHotEncoder(drop=&#x27;first&#x27;))]),\n",
       "                                                                         &lt;sklearn.compose._column_transformer.make_column_selector object at 0x00000194460F7A00&gt;)])),\n",
       "                                       (&#x27;RF&#x27;, RandomForestRegressor())]),\n",
       "             param_grid={&#x27;RF__max_depth&#x27;: [6, 7, 8],\n",
       "                         &#x27;RF__max_features&#x27;: [&#x27;sqrt&#x27;, &#x27;log2&#x27;],\n",
       "                         &#x27;RF__n_estimators&#x27;: [150, 200, 250]},\n",
       "             scoring=&#x27;r2&#x27;)</pre></div></div></div><div class=\"sk-parallel\"><div class=\"sk-parallel-item\"><div class=\"sk-item\"><div class=\"sk-label-container\"><div class=\"sk-label sk-toggleable\"><input class=\"sk-toggleable__control sk-hidden--visually\" id=\"sk-estimator-id-12\" type=\"checkbox\" ><label for=\"sk-estimator-id-12\" class=\"sk-toggleable__label sk-toggleable__label-arrow\">estimator: Pipeline</label><div class=\"sk-toggleable__content\"><pre>Pipeline(steps=[(&#x27;p&#x27;,\n",
       "                 ColumnTransformer(transformers=[(&#x27;num&#x27;,\n",
       "                                                  Pipeline(steps=[(&#x27;imputer&#x27;,\n",
       "                                                                   SimpleImputer(strategy=&#x27;median&#x27;)),\n",
       "                                                                  (&#x27;scaler&#x27;,\n",
       "                                                                   StandardScaler())]),\n",
       "                                                  &lt;sklearn.compose._column_transformer.make_column_selector object at 0x0000019442CAFE80&gt;),\n",
       "                                                 (&#x27;cat&#x27;,\n",
       "                                                  Pipeline(steps=[(&#x27;imputer&#x27;,\n",
       "                                                                   SimpleImputer(fill_value=&#x27;missing&#x27;,\n",
       "                                                                                 strategy=&#x27;constant&#x27;)),\n",
       "                                                                  (&#x27;onehot&#x27;,\n",
       "                                                                   OneHotEncoder(drop=&#x27;first&#x27;))]),\n",
       "                                                  &lt;sklearn.compose._column_transformer.make_column_selector object at 0x00000194460F7A00&gt;)])),\n",
       "                (&#x27;RF&#x27;, RandomForestRegressor())])</pre></div></div></div><div class=\"sk-serial\"><div class=\"sk-item\"><div class=\"sk-serial\"><div class=\"sk-item sk-dashed-wrapped\"><div class=\"sk-label-container\"><div class=\"sk-label sk-toggleable\"><input class=\"sk-toggleable__control sk-hidden--visually\" id=\"sk-estimator-id-13\" type=\"checkbox\" ><label for=\"sk-estimator-id-13\" class=\"sk-toggleable__label sk-toggleable__label-arrow\">p: ColumnTransformer</label><div class=\"sk-toggleable__content\"><pre>ColumnTransformer(transformers=[(&#x27;num&#x27;,\n",
       "                                 Pipeline(steps=[(&#x27;imputer&#x27;,\n",
       "                                                  SimpleImputer(strategy=&#x27;median&#x27;)),\n",
       "                                                 (&#x27;scaler&#x27;, StandardScaler())]),\n",
       "                                 &lt;sklearn.compose._column_transformer.make_column_selector object at 0x0000019442CAFE80&gt;),\n",
       "                                (&#x27;cat&#x27;,\n",
       "                                 Pipeline(steps=[(&#x27;imputer&#x27;,\n",
       "                                                  SimpleImputer(fill_value=&#x27;missing&#x27;,\n",
       "                                                                strategy=&#x27;constant&#x27;)),\n",
       "                                                 (&#x27;onehot&#x27;,\n",
       "                                                  OneHotEncoder(drop=&#x27;first&#x27;))]),\n",
       "                                 &lt;sklearn.compose._column_transformer.make_column_selector object at 0x00000194460F7A00&gt;)])</pre></div></div></div><div class=\"sk-parallel\"><div class=\"sk-parallel-item\"><div class=\"sk-item\"><div class=\"sk-label-container\"><div class=\"sk-label sk-toggleable\"><input class=\"sk-toggleable__control sk-hidden--visually\" id=\"sk-estimator-id-14\" type=\"checkbox\" ><label for=\"sk-estimator-id-14\" class=\"sk-toggleable__label sk-toggleable__label-arrow\">num</label><div class=\"sk-toggleable__content\"><pre>&lt;sklearn.compose._column_transformer.make_column_selector object at 0x0000019442CAFE80&gt;</pre></div></div></div><div class=\"sk-serial\"><div class=\"sk-item\"><div class=\"sk-serial\"><div class=\"sk-item\"><div class=\"sk-estimator sk-toggleable\"><input class=\"sk-toggleable__control sk-hidden--visually\" id=\"sk-estimator-id-15\" type=\"checkbox\" ><label for=\"sk-estimator-id-15\" class=\"sk-toggleable__label sk-toggleable__label-arrow\">SimpleImputer</label><div class=\"sk-toggleable__content\"><pre>SimpleImputer(strategy=&#x27;median&#x27;)</pre></div></div></div><div class=\"sk-item\"><div class=\"sk-estimator sk-toggleable\"><input class=\"sk-toggleable__control sk-hidden--visually\" id=\"sk-estimator-id-16\" type=\"checkbox\" ><label for=\"sk-estimator-id-16\" class=\"sk-toggleable__label sk-toggleable__label-arrow\">StandardScaler</label><div class=\"sk-toggleable__content\"><pre>StandardScaler()</pre></div></div></div></div></div></div></div></div><div class=\"sk-parallel-item\"><div class=\"sk-item\"><div class=\"sk-label-container\"><div class=\"sk-label sk-toggleable\"><input class=\"sk-toggleable__control sk-hidden--visually\" id=\"sk-estimator-id-17\" type=\"checkbox\" ><label for=\"sk-estimator-id-17\" class=\"sk-toggleable__label sk-toggleable__label-arrow\">cat</label><div class=\"sk-toggleable__content\"><pre>&lt;sklearn.compose._column_transformer.make_column_selector object at 0x00000194460F7A00&gt;</pre></div></div></div><div class=\"sk-serial\"><div class=\"sk-item\"><div class=\"sk-serial\"><div class=\"sk-item\"><div class=\"sk-estimator sk-toggleable\"><input class=\"sk-toggleable__control sk-hidden--visually\" id=\"sk-estimator-id-18\" type=\"checkbox\" ><label for=\"sk-estimator-id-18\" class=\"sk-toggleable__label sk-toggleable__label-arrow\">SimpleImputer</label><div class=\"sk-toggleable__content\"><pre>SimpleImputer(fill_value=&#x27;missing&#x27;, strategy=&#x27;constant&#x27;)</pre></div></div></div><div class=\"sk-item\"><div class=\"sk-estimator sk-toggleable\"><input class=\"sk-toggleable__control sk-hidden--visually\" id=\"sk-estimator-id-19\" type=\"checkbox\" ><label for=\"sk-estimator-id-19\" class=\"sk-toggleable__label sk-toggleable__label-arrow\">OneHotEncoder</label><div class=\"sk-toggleable__content\"><pre>OneHotEncoder(drop=&#x27;first&#x27;)</pre></div></div></div></div></div></div></div></div></div></div><div class=\"sk-item\"><div class=\"sk-estimator sk-toggleable\"><input class=\"sk-toggleable__control sk-hidden--visually\" id=\"sk-estimator-id-20\" type=\"checkbox\" ><label for=\"sk-estimator-id-20\" class=\"sk-toggleable__label sk-toggleable__label-arrow\">RandomForestRegressor</label><div class=\"sk-toggleable__content\"><pre>RandomForestRegressor()</pre></div></div></div></div></div></div></div></div></div></div></div></div>"
      ],
      "text/plain": [
       "GridSearchCV(cv=3,\n",
       "             estimator=Pipeline(steps=[('p',\n",
       "                                        ColumnTransformer(transformers=[('num',\n",
       "                                                                         Pipeline(steps=[('imputer',\n",
       "                                                                                          SimpleImputer(strategy='median')),\n",
       "                                                                                         ('scaler',\n",
       "                                                                                          StandardScaler())]),\n",
       "                                                                         <sklearn.compose._column_transformer.make_column_selector object at 0x0000019442CAFE80>),\n",
       "                                                                        ('cat',\n",
       "                                                                         Pipeline(steps=[('imputer',\n",
       "                                                                                          SimpleImputer(fill_value='missing',\n",
       "                                                                                                        strategy='constant')),\n",
       "                                                                                         ('onehot',\n",
       "                                                                                          OneHotEncoder(drop='first'))]),\n",
       "                                                                         <sklearn.compose._column_transformer.make_column_selector object at 0x00000194460F7A00>)])),\n",
       "                                       ('RF', RandomForestRegressor())]),\n",
       "             param_grid={'RF__max_depth': [6, 7, 8],\n",
       "                         'RF__max_features': ['sqrt', 'log2'],\n",
       "                         'RF__n_estimators': [150, 200, 250]},\n",
       "             scoring='r2')"
      ]
     },
     "execution_count": 28,
     "metadata": {},
     "output_type": "execute_result"
    }
   ],
   "source": [
    "from sklearn.model_selection import GridSearchCV\n",
    "gs = GridSearchCV(rf, grid, cv = 3, scoring = 'r2')\n",
    "gs.fit(xtr, ytr)"
   ]
  },
  {
   "cell_type": "code",
   "execution_count": 29,
   "metadata": {},
   "outputs": [
    {
     "name": "stdout",
     "output_type": "stream",
     "text": [
      "[ 83.10907758  98.05739839  90.48014011  67.09381397  88.78069974\n",
      "  97.39260805  91.74475862 106.03915577  96.75219244 101.54307862\n",
      "  97.34266195  97.10525449  91.47194098 103.07079337 108.05580589\n",
      "  90.89404725 121.08456481  88.78069974  98.23586126 104.7609448\n",
      "  96.56825727 111.69089514 108.80420238  93.67821324 101.54307862\n",
      "  88.17281005 118.74661123  93.67821324  89.00290579  95.24647453\n",
      " 114.15909236  89.23973257 100.36971663  91.90887018  92.2819068\n",
      "  88.14658109  78.53752103  80.05919899 108.03266934  96.922609\n",
      " 105.23375417  97.7646876  104.7609448  100.23014181  99.12556859\n",
      "  97.39260805  86.76803128  94.9369877  102.2933316  111.6826188\n",
      "  97.09778381  90.89404725]\n"
     ]
    }
   ],
   "source": [
    "y_gs = gs.predict(xte)\n",
    "y_gsN = gs.best_estimator_.predict(xte)\n",
    "print(y_gsN)"
   ]
  },
  {
   "cell_type": "code",
   "execution_count": 30,
   "metadata": {},
   "outputs": [
    {
     "name": "stdout",
     "output_type": "stream",
     "text": [
      "R^2: 0.3388\n",
      "MAE: 13.44\n",
      "RMSE: 16.4581\n",
      "R^2: 0.3388\n",
      "MAE: 13.44\n",
      "RMSE: 16.4581\n"
     ]
    }
   ],
   "source": [
    "resultado(yte,y_gs)\n",
    "resultado(yte,y_gsN)"
   ]
  },
  {
   "cell_type": "markdown",
   "metadata": {},
   "source": [
    "Aca se puede ver realidad y la prediccion de los datos"
   ]
  },
  {
   "cell_type": "code",
   "execution_count": 31,
   "metadata": {},
   "outputs": [
    {
     "data": {
      "text/html": [
       "<div>\n",
       "<style scoped>\n",
       "    .dataframe tbody tr th:only-of-type {\n",
       "        vertical-align: middle;\n",
       "    }\n",
       "\n",
       "    .dataframe tbody tr th {\n",
       "        vertical-align: top;\n",
       "    }\n",
       "\n",
       "    .dataframe thead th {\n",
       "        text-align: right;\n",
       "    }\n",
       "</style>\n",
       "<table border=\"1\" class=\"dataframe\">\n",
       "  <thead>\n",
       "    <tr style=\"text-align: right;\">\n",
       "      <th></th>\n",
       "      <th>real</th>\n",
       "      <th>predicción</th>\n",
       "    </tr>\n",
       "  </thead>\n",
       "  <tbody>\n",
       "    <tr>\n",
       "      <th>88</th>\n",
       "      <td>69</td>\n",
       "      <td>83</td>\n",
       "    </tr>\n",
       "    <tr>\n",
       "      <th>72</th>\n",
       "      <td>81</td>\n",
       "      <td>98</td>\n",
       "    </tr>\n",
       "    <tr>\n",
       "      <th>114</th>\n",
       "      <td>92</td>\n",
       "      <td>90</td>\n",
       "    </tr>\n",
       "    <tr>\n",
       "      <th>158</th>\n",
       "      <td>66</td>\n",
       "      <td>67</td>\n",
       "    </tr>\n",
       "    <tr>\n",
       "      <th>163</th>\n",
       "      <td>80</td>\n",
       "      <td>88</td>\n",
       "    </tr>\n",
       "    <tr>\n",
       "      <th>159</th>\n",
       "      <td>94</td>\n",
       "      <td>97</td>\n",
       "    </tr>\n",
       "    <tr>\n",
       "      <th>185</th>\n",
       "      <td>114</td>\n",
       "      <td>91</td>\n",
       "    </tr>\n",
       "    <tr>\n",
       "      <th>93</th>\n",
       "      <td>96</td>\n",
       "      <td>106</td>\n",
       "    </tr>\n",
       "    <tr>\n",
       "      <th>91</th>\n",
       "      <td>84</td>\n",
       "      <td>96</td>\n",
       "    </tr>\n",
       "    <tr>\n",
       "      <th>19</th>\n",
       "      <td>96</td>\n",
       "      <td>101</td>\n",
       "    </tr>\n",
       "    <tr>\n",
       "      <th>160</th>\n",
       "      <td>75</td>\n",
       "      <td>97</td>\n",
       "    </tr>\n",
       "    <tr>\n",
       "      <th>82</th>\n",
       "      <td>89</td>\n",
       "      <td>97</td>\n",
       "    </tr>\n",
       "    <tr>\n",
       "      <th>52</th>\n",
       "      <td>97</td>\n",
       "      <td>91</td>\n",
       "    </tr>\n",
       "    <tr>\n",
       "      <th>150</th>\n",
       "      <td>145</td>\n",
       "      <td>103</td>\n",
       "    </tr>\n",
       "    <tr>\n",
       "      <th>144</th>\n",
       "      <td>143</td>\n",
       "      <td>108</td>\n",
       "    </tr>\n",
       "    <tr>\n",
       "      <th>80</th>\n",
       "      <td>71</td>\n",
       "      <td>90</td>\n",
       "    </tr>\n",
       "    <tr>\n",
       "      <th>62</th>\n",
       "      <td>132</td>\n",
       "      <td>121</td>\n",
       "    </tr>\n",
       "    <tr>\n",
       "      <th>190</th>\n",
       "      <td>80</td>\n",
       "      <td>88</td>\n",
       "    </tr>\n",
       "    <tr>\n",
       "      <th>122</th>\n",
       "      <td>99</td>\n",
       "      <td>98</td>\n",
       "    </tr>\n",
       "    <tr>\n",
       "      <th>20</th>\n",
       "      <td>121</td>\n",
       "      <td>104</td>\n",
       "    </tr>\n",
       "  </tbody>\n",
       "</table>\n",
       "</div>"
      ],
      "text/plain": [
       "     real  predicción\n",
       "88     69          83\n",
       "72     81          98\n",
       "114    92          90\n",
       "158    66          67\n",
       "163    80          88\n",
       "159    94          97\n",
       "185   114          91\n",
       "93     96         106\n",
       "91     84          96\n",
       "19     96         101\n",
       "160    75          97\n",
       "82     89          97\n",
       "52     97          91\n",
       "150   145         103\n",
       "144   143         108\n",
       "80     71          90\n",
       "62    132         121\n",
       "190    80          88\n",
       "122    99          98\n",
       "20    121         104"
      ]
     },
     "execution_count": 31,
     "metadata": {},
     "output_type": "execute_result"
    }
   ],
   "source": [
    "df = pd.DataFrame({'real': yte.astype(int), 'predicción': y_gs.astype(int)})\n",
    "df.head(20)"
   ]
  },
  {
   "cell_type": "markdown",
   "metadata": {},
   "source": [
    "Nested Cross-Validation"
   ]
  },
  {
   "cell_type": "markdown",
   "metadata": {},
   "source": [
    "Calculamos la media y la varianza del estimador con los mejores parametros"
   ]
  },
  {
   "cell_type": "code",
   "execution_count": 32,
   "metadata": {},
   "outputs": [
    {
     "name": "stdout",
     "output_type": "stream",
     "text": [
      "R^2 para train: 0.206 (0.438)\n",
      "R^2 para test: -41.059 (121.552)\n"
     ]
    }
   ],
   "source": [
    "sco_tr = cross_val_score(gs.best_estimator_, xtr, ytr, scoring='r2', cv=20)\n",
    "sco_te = cross_val_score(gs.best_estimator_, xte, yte, scoring='r2', cv=20)\n",
    "\n",
    "print('R^2 para train: %.3f (%.3f)' % (np.mean(sco_tr), np.std(sco_tr)))\n",
    "print('R^2 para test: %.3f (%.3f)' % (np.mean(sco_te), np.std(sco_te)))"
   ]
  },
  {
   "cell_type": "markdown",
   "metadata": {},
   "source": [
    "Benchmarking"
   ]
  },
  {
   "cell_type": "markdown",
   "metadata": {},
   "source": [
    "Creamos los modelos"
   ]
  },
  {
   "cell_type": "code",
   "execution_count": 33,
   "metadata": {},
   "outputs": [],
   "source": [
    "from sklearn.model_selection import KFold\n",
    "from sklearn.model_selection import cross_val_score\n",
    "\n",
    "modelos = []\n",
    "modelos.append(('LR', lr))\n",
    "modelos.append(('GBM', gbm))\n",
    "modelos.append(('RF', gs.best_estimator_))\n",
    "\n",
    "resultados = []\n",
    "nombres = []\n"
   ]
  },
  {
   "cell_type": "code",
   "execution_count": 34,
   "metadata": {},
   "outputs": [
    {
     "name": "stdout",
     "output_type": "stream",
     "text": [
      "LR: 18.714290 (4.817246)\n",
      "GBM: 14.204864 (4.439237)\n",
      "RF: 14.147680 (4.209922)\n"
     ]
    }
   ],
   "source": [
    "for nombre, modelo in modelos:\n",
    "    kfold = KFold(n_splits=25)\n",
    "    cv = -cross_val_score(modelo, xtr, ytr, cv=kfold, scoring='neg_mean_absolute_error')\n",
    "    resultados.append(cv)\n",
    "    nombres.append(nombre)\n",
    "    msg = \"%s: %f (%f)\" % (nombre, cv.mean(), cv.std())\n",
    "    print(msg)"
   ]
  },
  {
   "cell_type": "markdown",
   "metadata": {},
   "source": [
    "Representacion grafica de los algoritmos"
   ]
  },
  {
   "cell_type": "code",
   "execution_count": 35,
   "metadata": {},
   "outputs": [
    {
     "data": {
      "image/png": "[encoded data removed]",
      "text/plain": [
       "<Figure size 640x480 with 1 Axes>"
      ]
     },
     "metadata": {},
     "output_type": "display_data"
    }
   ],
   "source": [
    "import matplotlib.pyplot as plt\n",
    "\n",
    "fig = plt.figure()\n",
    "fig.suptitle('Algoritmos comparados según su error')\n",
    "ax = fig.add_subplot(111)\n",
    "plt.boxplot(resultados)\n",
    "ax.set_xticklabels(nombres)\n",
    "plt.show()"
   ]
  }
 ],
 "metadata": {
  "kernelspec": {
   "display_name": "Python 3.10.8 64-bit (microsoft store)",
   "language": "python",
   "name": "python3"
  },
  "language_info": {
   "codemirror_mode": {
    "name": "ipython",
    "version": 3
   },
   "file_extension": ".py",
   "mimetype": "text/x-python",
   "name": "python",
   "nbconvert_exporter": "python",
   "pygments_lexer": "ipython3",
   "version": "3.10.8 (tags/v3.10.8:aaaf517, Oct 11 2022, 16:50:30) [MSC v.1933 64 bit (AMD64)]"
  },
  "orig_nbformat": 4,
  "vscode": {
   "interpreter": {
    "hash": "288c28e4d0bd2178b1b07b07d6e26be2799a530ff5f2206ba9b15a3ade6a4dc1"
   }
  }
 },
 "nbformat": 4,
 "nbformat_minor": 2
}
